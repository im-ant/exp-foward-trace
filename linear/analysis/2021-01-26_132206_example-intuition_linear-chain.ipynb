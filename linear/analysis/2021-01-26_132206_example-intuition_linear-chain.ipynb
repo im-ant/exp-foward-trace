{
 "cells": [
  {
   "cell_type": "markdown",
   "metadata": {},
   "source": [
    "# Illustrative linear chain experiment\n",
    "\n",
    "Exp path: `/network/tmp1/chenant/ant/sr_trace/2021-01-26/13-22-06`\n",
    "\n",
    "Today: January 26, 2021"
   ]
  },
  {
   "cell_type": "code",
   "execution_count": 24,
   "metadata": {},
   "outputs": [],
   "source": [
    "import os\n",
    "import glob\n",
    "import json\n",
    "import hashlib\n",
    "from collections.abc import Mapping\n",
    "\n",
    "\n",
    "import numpy as np\n",
    "import pandas as pd\n",
    "import matplotlib.pyplot as plt\n",
    "import seaborn as sns"
   ]
  },
  {
   "cell_type": "markdown",
   "metadata": {},
   "source": [
    "## Import files\n",
    "Just focusing on the checkpoints "
   ]
  },
  {
   "cell_type": "code",
   "execution_count": 5,
   "metadata": {},
   "outputs": [
    {
     "name": "stdout",
     "output_type": "stream",
     "text": [
      "4800\n"
     ]
    },
    {
     "data": {
      "text/plain": [
       "4800"
      ]
     },
     "execution_count": 5,
     "metadata": {},
     "output_type": "execute_result"
    }
   ],
   "source": [
    "Experiment_Dir = '/Users/anthony/Playground/tensorboard_logs/sr_return/2021-01-26/13-22-06'\n",
    "Checkpoint_wc = 'checkpoint/ckpt*.json'\n",
    "\n",
    "In_File_list = glob.glob(os.path.join(Experiment_Dir, Checkpoint_wc))\n",
    "print(len(In_File_list))\n",
    "\n",
    "# Parse\n",
    "def script_get_input_dict(path_list):\n",
    "    in_dict = {}\n",
    "    for path in path_list:\n",
    "        partStr = path.split('/')[-1]\n",
    "        fileStr = partStr.split('.')[0]\n",
    "        \n",
    "        with open(path) as f:\n",
    "            data = json.load(f)\n",
    "            \n",
    "        # numpy-fy\n",
    "        for param_k in data['agent']:\n",
    "            data['agent'][param_k] = np.array(data['agent'][param_k])\n",
    "        \n",
    "        if not fileStr in in_dict:\n",
    "            in_dict[fileStr] = {}\n",
    "        in_dict[fileStr] = data\n",
    "        \n",
    "    return in_dict\n",
    "\n",
    "\n",
    "In_Dict = script_get_input_dict(In_File_list)\n",
    "len(In_Dict)"
   ]
  },
  {
   "cell_type": "code",
   "execution_count": 9,
   "metadata": {},
   "outputs": [
    {
     "data": {
      "text/plain": [
       "dict_keys(['episode_idx', 'cfg', 'agent'])"
      ]
     },
     "execution_count": 9,
     "metadata": {},
     "output_type": "execute_result"
    }
   ],
   "source": [
    "In_Dict['ckpt_epis-74_a02f7c20038c490db0dd16cc3bf28971'].keys()"
   ]
  },
  {
   "cell_type": "code",
   "execution_count": 11,
   "metadata": {},
   "outputs": [
    {
     "data": {
      "text/plain": [
       "{'training': {'num_episodes': 100, 'seed': 0, 'save_checkpoint': 1},\n",
       " 'logging': {'dir_path': './', 'print_freq': 100},\n",
       " 'env': {'cls_string': 'SimpleLinearChainEnv',\n",
       "  'kwargs': {'n_states': 13, 'skip_prob': 0.0, 'terminal_reward_stdev': 0.0}},\n",
       " 'agent': {'kwargs': {'lr': 0.01,\n",
       "   'gamma': 0.9,\n",
       "   'lamb': 0.95,\n",
       "   'eta_trace': 0.0,\n",
       "   'use_true_reward_params': False,\n",
       "   'use_true_sf_params': False},\n",
       "  'cls_string': 'SFReturnAgent'}}"
      ]
     },
     "execution_count": 11,
     "metadata": {},
     "output_type": "execute_result"
    }
   ],
   "source": [
    "In_Dict['ckpt_epis-74_a02f7c20038c490db0dd16cc3bf28971']['cfg']"
   ]
  },
  {
   "cell_type": "markdown",
   "metadata": {},
   "source": [
    "## Helper filter method"
   ]
  },
  {
   "cell_type": "code",
   "execution_count": 29,
   "metadata": {},
   "outputs": [],
   "source": [
    "def is_same_dict(dict_a, dict_b):\n",
    "    \"\"\"Helper check if two dict is identical\"\"\"\n",
    "    # Base case (not sure if work for lists)\n",
    "    if not isinstance(dict_a, Mapping):\n",
    "        return dict_a == dict_b\n",
    "    # recursion\n",
    "    for k in dict_a:\n",
    "        if not is_same_dict(dict_a[k], dict_b[k]):\n",
    "            return False\n",
    "    \n",
    "    return True\n",
    "\n",
    "def hash_dict(dict_a):\n",
    "    \"\"\"Helper method to hash a dictionary\"\"\"\n",
    "    s = json.dumps(dict_a).encode('utf-8')\n",
    "    return hashlib.md5(s).digest()"
   ]
  },
  {
   "cell_type": "code",
   "execution_count": 36,
   "metadata": {},
   "outputs": [
    {
     "data": {
      "text/plain": [
       "dict_keys([b'\\xa5\\xdf`/\\xa6*\\x0e\\x80$\\xec\\xbe\\xa2)\\x7fv\\x89'])"
      ]
     },
     "execution_count": 36,
     "metadata": {},
     "output_type": "execute_result"
    }
   ],
   "source": [
    "def get_filtered_states(cfg_filter_f, state_key):\n",
    "    \n",
    "    intermediate_dict = {}\n",
    "    \n",
    "    for file_id in In_Dict:\n",
    "        episode_idx = In_Dict[file_id]['episode_idx']\n",
    "        cfg_dict = In_Dict[file_id]['cfg']\n",
    "        state_dict = In_Dict[file_id]['agent']\n",
    "        \n",
    "        # Filter via filter function\n",
    "        if not cfg_filter_f(cfg_dict):\n",
    "            continue\n",
    "        \n",
    "        # Extract state as a matrix\n",
    "        cfg_h = hash_dict(cfg_dict)\n",
    "        if cfg_h not in intermediate_dict:\n",
    "            intermediate_dict[cfg_h] = {\n",
    "                'cfg': cfg_dict,\n",
    "                'states': [],\n",
    "            }\n",
    "        \n",
    "        # Add current state\n",
    "        intermediate_dict[cfg_h]['states'].append(\n",
    "            (episode_idx, state_dict[state_key])\n",
    "        )\n",
    "    \n",
    "    # Sort and generate matrices\n",
    "    out_dict = {}\n",
    "    for k in intermediate_dict:\n",
    "        cfg_dict = intermediate_dict[k]['cfg']\n",
    "        list_tup = intermediate_dict[k]['states']\n",
    "        \n",
    "        list_tup.sort(key=lambda tup: tup[0])  # in place sort\n",
    "        \n",
    "        state_over_epis = []\n",
    "        for ele in list_tup:\n",
    "            state_over_epis.append(ele[1])\n",
    "        state_mat = np.array(state_over_epis)\n",
    "        \n",
    "        out_dict[k] = {\n",
    "            'cfg': cfg_dict,\n",
    "            'state': state_mat\n",
    "        }\n",
    "    \n",
    "    return out_dict\n",
    "\n",
    "tmp_filter_f = lambda c: (c['agent']['kwargs']['lr'] == 0.1) and (c['agent']['kwargs']['lamb'] == 0.0)\n",
    "get_filtered_states(tmp_filter_f, 'Wv').keys()"
   ]
  },
  {
   "cell_type": "markdown",
   "metadata": {},
   "source": [
    "### Filter for a bunch of states"
   ]
  },
  {
   "cell_type": "code",
   "execution_count": 42,
   "metadata": {},
   "outputs": [
    {
     "data": {
      "text/plain": [
       "array([[0.00000000e+00, 0.00000000e+00, 0.00000000e+00, ...,\n",
       "        0.00000000e+00, 0.00000000e+00, 1.00000000e-01],\n",
       "       [0.00000000e+00, 0.00000000e+00, 0.00000000e+00, ...,\n",
       "        0.00000000e+00, 9.00000000e-03, 1.90000000e-01],\n",
       "       [0.00000000e+00, 0.00000000e+00, 0.00000000e+00, ...,\n",
       "        8.10000000e-04, 2.52000000e-02, 2.71000000e-01],\n",
       "       ...,\n",
       "       [5.05797415e-02, 8.57971128e-02, 1.36154125e-01, ...,\n",
       "        8.08125618e-01, 8.99649127e-01, 9.99967208e-01],\n",
       "       [5.32435075e-02, 8.94712728e-02, 1.40746825e-01, ...,\n",
       "        8.08281477e-01, 8.99681263e-01, 9.99970487e-01],\n",
       "       [5.59715713e-02, 9.31913598e-02, 1.45344686e-01, ...,\n",
       "        8.08424643e-01, 8.99710481e-01, 9.99973439e-01]])"
      ]
     },
     "execution_count": 42,
     "metadata": {},
     "output_type": "execute_result"
    }
   ],
   "source": [
    "def script_get_lr_lamb_Wv(filters):\n",
    "    filter_f = lambda c: ((c['agent']['kwargs']['lr'] == filters['lr']) \n",
    "                          and (c['agent']['kwargs']['lamb'] == filters['lamb']))\n",
    "    \n",
    "    # NOTE: should be just one dict with above filter\n",
    "    out_dict = get_filtered_states(filter_f, 'Wv')\n",
    "    cur_k = list(out_dict.keys())[0]\n",
    "    return out_dict[cur_k]['state']\n",
    "    \n",
    "    \n",
    "script_get_lr_lamb_Wv(filters={'lr':0.1, 'lamb':0.0})"
   ]
  },
  {
   "cell_type": "markdown",
   "metadata": {},
   "source": [
    "## Visualize"
   ]
  },
  {
   "cell_type": "markdown",
   "metadata": {},
   "source": [
    "### Visualize value estimate over episodes"
   ]
  },
  {
   "cell_type": "code",
   "execution_count": 53,
   "metadata": {},
   "outputs": [
    {
     "data": {
      "image/png": "[encoded data removed]",
      "text/plain": [
       "<Figure size 864x360 with 3 Axes>"
      ]
     },
     "metadata": {
      "needs_background": "light"
     },
     "output_type": "display_data"
    }
   ],
   "source": [
    "def script_plot_value_over_episodes():\n",
    "    cur_lr = 0.2\n",
    "    filter_list = [{'lr':cur_lr, 'lamb':0.0}, \n",
    "                   {'lr':cur_lr, 'lamb':0.7}, \n",
    "                   {'lr':cur_lr, 'lamb':1.0}]\n",
    "    titles = ['κ=0 (TD(0))', 'κ=0.7', 'κ=1.0 (SF)']\n",
    "    \n",
    "    plt.figure(figsize=(12,5))\n",
    "    plt.title('Value')\n",
    "    \n",
    "    for i, filt in enumerate(filter_list):\n",
    "        curmat = script_get_lr_lamb_Wv(filt)\n",
    "        \n",
    "        plt.subplot(1,len(filter_list), i+1)\n",
    "        \n",
    "        cur_cbar = True if (i == (len(filter_list)-1)) else False\n",
    "        #cur_yticklabels = True if (i == 0) else False\n",
    "        #sns.heatmap(curmat, xticklabels=False, yticklabels=True,\n",
    "        #            cbar=False)\n",
    "        plt.imshow(curmat, aspect='auto')\n",
    "        #_ = plt.ylabel('Episodes') if (i==0) else plt.ylabel('')\n",
    "        #plt.xlabel('States')\n",
    "        \n",
    "        plt.title(titles[i])\n",
    "        pass\n",
    "    pass\n",
    "script_plot_value_over_episodes()"
   ]
  },
  {
   "cell_type": "code",
   "execution_count": null,
   "metadata": {},
   "outputs": [],
   "source": []
  },
  {
   "cell_type": "code",
   "execution_count": null,
   "metadata": {},
   "outputs": [],
   "source": []
  },
  {
   "cell_type": "code",
   "execution_count": null,
   "metadata": {},
   "outputs": [],
   "source": []
  },
  {
   "cell_type": "code",
   "execution_count": null,
   "metadata": {},
   "outputs": [],
   "source": []
  },
  {
   "cell_type": "markdown",
   "metadata": {},
   "source": [
    "### NOTE: BELOW ARE DEPRECIATED. NEED TO RE-WRITE CODE."
   ]
  },
  {
   "cell_type": "code",
   "execution_count": 95,
   "metadata": {},
   "outputs": [
    {
     "name": "stdout",
     "output_type": "stream",
     "text": [
      "Episode: 0, State: 8\n"
     ]
    },
    {
     "data": {
      "image/png": "[encoded data removed]",
      "text/plain": [
       "<Figure size 576x144 with 3 Axes>"
      ]
     },
     "metadata": {
      "needs_background": "light"
     },
     "output_type": "display_data"
    }
   ],
   "source": [
    "def script_plot_component_at_episode(data_dict, ag_key, epis_idx, state_idx):\n",
    "    \n",
    "    plt.figure(figsize=(8,2))\n",
    "    print(f'Episode: {epis_idx}, State: {state_idx}')\n",
    "    \n",
    "    plt.subplot(3,1,1)\n",
    "    cur_vec = In_Dict[ag_key][epis_idx]['agent']['Ws'][0,state_idx,:]\n",
    "    cur_vec = cur_vec.reshape(1,13)\n",
    "    plt.imshow(cur_vec)\n",
    "    \n",
    "    plt.subplot(3,1,2)\n",
    "    cur_vec = In_Dict[ag_key][epis_idx]['agent']['Wr']\n",
    "    cur_vec = cur_vec.reshape(1,13)\n",
    "    plt.imshow(cur_vec)\n",
    "    \n",
    "    plt.subplot(3,1,3)\n",
    "    cur_vec = In_Dict[ag_key][epis_idx]['agent']['Wv']\n",
    "    cur_vec = cur_vec.reshape(1,13)\n",
    "    plt.imshow(cur_vec)\n",
    "    \n",
    "    \n",
    "    \n",
    "script_plot_component_at_episode(In_Dict, 'SFReturnAgent_lamb-0o7', 0, 8)"
   ]
  },
  {
   "cell_type": "code",
   "execution_count": 96,
   "metadata": {},
   "outputs": [
    {
     "name": "stdout",
     "output_type": "stream",
     "text": [
      "Episode: 1, State: 8\n"
     ]
    },
    {
     "data": {
      "image/png": "[encoded data removed]",
      "text/plain": [
       "<Figure size 576x144 with 3 Axes>"
      ]
     },
     "metadata": {
      "needs_background": "light"
     },
     "output_type": "display_data"
    }
   ],
   "source": [
    "script_plot_component_at_episode(In_Dict, 'SFReturnAgent_lamb-0o7', 1, 8)"
   ]
  },
  {
   "cell_type": "markdown",
   "metadata": {},
   "source": [
    "Seems like SF has one-step advantage since it doesn't need to learn about itself first. But, point still stands."
   ]
  },
  {
   "cell_type": "code",
   "execution_count": 97,
   "metadata": {},
   "outputs": [
    {
     "name": "stdout",
     "output_type": "stream",
     "text": [
      "Episode: 1, State: 8\n"
     ]
    },
    {
     "data": {
      "image/png": "[encoded data removed]",
      "text/plain": [
       "<Figure size 576x144 with 3 Axes>"
      ]
     },
     "metadata": {
      "needs_background": "light"
     },
     "output_type": "display_data"
    }
   ],
   "source": [
    "script_plot_component_at_episode(In_Dict, 'SFReturnAgent_lamb-0o0', 1, 8)"
   ]
  },
  {
   "cell_type": "code",
   "execution_count": 98,
   "metadata": {},
   "outputs": [
    {
     "name": "stdout",
     "output_type": "stream",
     "text": [
      "Episode: 1, State: 8\n"
     ]
    },
    {
     "data": {
      "image/png": "[encoded data removed]",
      "text/plain": [
       "<Figure size 576x144 with 3 Axes>"
      ]
     },
     "metadata": {
      "needs_background": "light"
     },
     "output_type": "display_data"
    }
   ],
   "source": [
    "script_plot_component_at_episode(In_Dict, 'SFReturnAgent_lamb-1o0', 1, 8)"
   ]
  },
  {
   "cell_type": "code",
   "execution_count": 71,
   "metadata": {},
   "outputs": [
    {
     "data": {
      "text/plain": [
       "<matplotlib.image.AxesImage at 0x7f8de3df9810>"
      ]
     },
     "execution_count": 71,
     "metadata": {},
     "output_type": "execute_result"
    },
    {
     "data": {
      "image/png": "[encoded data removed]",
      "text/plain": [
       "<Figure size 432x288 with 1 Axes>"
      ]
     },
     "metadata": {
      "needs_background": "light"
     },
     "output_type": "display_data"
    }
   ],
   "source": [
    "plt.imshow(In_Dict['SFReturnAgent_lamb-0o7'][1]['agent']['Ws'][0])"
   ]
  },
  {
   "cell_type": "code",
   "execution_count": null,
   "metadata": {},
   "outputs": [],
   "source": []
  },
  {
   "cell_type": "code",
   "execution_count": null,
   "metadata": {},
   "outputs": [],
   "source": []
  },
  {
   "cell_type": "code",
   "execution_count": null,
   "metadata": {},
   "outputs": [],
   "source": []
  },
  {
   "cell_type": "code",
   "execution_count": null,
   "metadata": {},
   "outputs": [],
   "source": []
  },
  {
   "cell_type": "code",
   "execution_count": null,
   "metadata": {},
   "outputs": [],
   "source": []
  },
  {
   "cell_type": "code",
   "execution_count": null,
   "metadata": {},
   "outputs": [],
   "source": []
  },
  {
   "cell_type": "code",
   "execution_count": null,
   "metadata": {},
   "outputs": [],
   "source": []
  },
  {
   "cell_type": "code",
   "execution_count": null,
   "metadata": {},
   "outputs": [],
   "source": []
  },
  {
   "cell_type": "code",
   "execution_count": null,
   "metadata": {},
   "outputs": [],
   "source": []
  },
  {
   "cell_type": "code",
   "execution_count": null,
   "metadata": {},
   "outputs": [],
   "source": []
  },
  {
   "cell_type": "code",
   "execution_count": null,
   "metadata": {},
   "outputs": [],
   "source": []
  },
  {
   "cell_type": "code",
   "execution_count": null,
   "metadata": {},
   "outputs": [],
   "source": []
  },
  {
   "cell_type": "code",
   "execution_count": null,
   "metadata": {},
   "outputs": [],
   "source": []
  },
  {
   "cell_type": "code",
   "execution_count": null,
   "metadata": {},
   "outputs": [],
   "source": []
  },
  {
   "cell_type": "code",
   "execution_count": null,
   "metadata": {},
   "outputs": [],
   "source": []
  },
  {
   "cell_type": "code",
   "execution_count": null,
   "metadata": {},
   "outputs": [],
   "source": []
  },
  {
   "cell_type": "code",
   "execution_count": null,
   "metadata": {},
   "outputs": [],
   "source": []
  },
  {
   "cell_type": "code",
   "execution_count": null,
   "metadata": {},
   "outputs": [],
   "source": []
  },
  {
   "cell_type": "code",
   "execution_count": null,
   "metadata": {},
   "outputs": [],
   "source": []
  },
  {
   "cell_type": "code",
   "execution_count": null,
   "metadata": {},
   "outputs": [],
   "source": []
  },
  {
   "cell_type": "code",
   "execution_count": null,
   "metadata": {},
   "outputs": [],
   "source": []
  },
  {
   "cell_type": "code",
   "execution_count": null,
   "metadata": {},
   "outputs": [],
   "source": []
  },
  {
   "cell_type": "code",
   "execution_count": null,
   "metadata": {},
   "outputs": [],
   "source": []
  },
  {
   "cell_type": "code",
   "execution_count": null,
   "metadata": {},
   "outputs": [],
   "source": []
  },
  {
   "cell_type": "code",
   "execution_count": null,
   "metadata": {},
   "outputs": [],
   "source": []
  }
 ],
 "metadata": {
  "kernelspec": {
   "display_name": "Python 3",
   "language": "python",
   "name": "python3"
  },
  "language_info": {
   "codemirror_mode": {
    "name": "ipython",
    "version": 3
   },
   "file_extension": ".py",
   "mimetype": "text/x-python",
   "name": "python",
   "nbconvert_exporter": "python",
   "pygments_lexer": "ipython3",
   "version": "3.7.5"
  }
 },
 "nbformat": 4,
 "nbformat_minor": 4
}
